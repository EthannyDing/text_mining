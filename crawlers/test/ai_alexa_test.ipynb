{
 "cells": [
  {
   "cell_type": "code",
   "execution_count": 1,
   "metadata": {},
   "outputs": [],
   "source": [
    "from selenium import webdriver\n",
    "from selenium.webdriver.support.ui import WebDriverWait\n",
    "from selenium.webdriver.support import expected_conditions as EC\n",
    "from selenium.webdriver.common.by import By\n",
    "from selenium.webdriver.common.action_chains import ActionChains"
   ]
  },
  {
   "cell_type": "code",
   "execution_count": 2,
   "metadata": {},
   "outputs": [],
   "source": [
    "# options = webdriver.ChromeOptions()\n",
    "# options.add_argument(\"start-maximized\");\n",
    "# options.add_argument(\"disable-infobars\")\n",
    "# options.add_argument(\"--disable-extensions\")\n",
    "# driver = webdriver.Chrome(chrome_options=options,executable_path=\"/linguistics/ethan/Downloads/chromedriver_version87\")\n",
    "driver = webdriver.Chrome(executable_path=\"/linguistics/ethan/Downloads/chromedriver_version87\")"
   ]
  },
  {
   "cell_type": "code",
   "execution_count": 17,
   "metadata": {},
   "outputs": [],
   "source": [
    "url = 'https://ai.alexatranslations.com/translate/signin/'\n",
    "username = 'QA_production'\n",
    "password = '11111111'"
   ]
  },
  {
   "cell_type": "code",
   "execution_count": 4,
   "metadata": {},
   "outputs": [],
   "source": [
    "username_inp = '//input[@id=\"username\"]'\n",
    "password_inp = '//input[@id=\"password\"]'\n",
    "login_button = '//button[@type=\"submit\"]'\n",
    "close_video_button = '//button[contains(text(), \"Close\")]'"
   ]
  },
  {
   "cell_type": "code",
   "execution_count": 20,
   "metadata": {},
   "outputs": [
    {
     "ename": "TimeoutException",
     "evalue": "Message: \n",
     "output_type": "error",
     "traceback": [
      "\u001b[0;31m---------------------------------------------------------------------------\u001b[0m",
      "\u001b[0;31mTimeoutException\u001b[0m                          Traceback (most recent call last)",
      "\u001b[0;32m<ipython-input-20-f87829505557>\u001b[0m in \u001b[0;36m<module>\u001b[0;34m\u001b[0m\n\u001b[1;32m     12\u001b[0m \u001b[0mpassword_ele\u001b[0m\u001b[0;34m.\u001b[0m\u001b[0msend_keys\u001b[0m\u001b[0;34m(\u001b[0m\u001b[0mpassword\u001b[0m\u001b[0;34m)\u001b[0m\u001b[0;34m\u001b[0m\u001b[0;34m\u001b[0m\u001b[0m\n\u001b[1;32m     13\u001b[0m \u001b[0mlogin_ele\u001b[0m\u001b[0;34m.\u001b[0m\u001b[0mclick\u001b[0m\u001b[0;34m(\u001b[0m\u001b[0;34m)\u001b[0m\u001b[0;34m\u001b[0m\u001b[0;34m\u001b[0m\u001b[0m\n\u001b[0;32m---> 14\u001b[0;31m close_video = WebDriverWait(driver, 5).until(\n\u001b[0m\u001b[1;32m     15\u001b[0m               EC.element_to_be_clickable((By.XPATH, close_video_button)))\n\u001b[1;32m     16\u001b[0m \u001b[0mclose_video\u001b[0m\u001b[0;34m.\u001b[0m\u001b[0mclick\u001b[0m\u001b[0;34m(\u001b[0m\u001b[0;34m)\u001b[0m\u001b[0;34m\u001b[0m\u001b[0;34m\u001b[0m\u001b[0m\n",
      "\u001b[0;32m~/anaconda3/lib/python3.8/site-packages/selenium/webdriver/support/wait.py\u001b[0m in \u001b[0;36muntil\u001b[0;34m(self, method, message)\u001b[0m\n\u001b[1;32m     78\u001b[0m             \u001b[0;32mif\u001b[0m \u001b[0mtime\u001b[0m\u001b[0;34m.\u001b[0m\u001b[0mtime\u001b[0m\u001b[0;34m(\u001b[0m\u001b[0;34m)\u001b[0m \u001b[0;34m>\u001b[0m \u001b[0mend_time\u001b[0m\u001b[0;34m:\u001b[0m\u001b[0;34m\u001b[0m\u001b[0;34m\u001b[0m\u001b[0m\n\u001b[1;32m     79\u001b[0m                 \u001b[0;32mbreak\u001b[0m\u001b[0;34m\u001b[0m\u001b[0;34m\u001b[0m\u001b[0m\n\u001b[0;32m---> 80\u001b[0;31m         \u001b[0;32mraise\u001b[0m \u001b[0mTimeoutException\u001b[0m\u001b[0;34m(\u001b[0m\u001b[0mmessage\u001b[0m\u001b[0;34m,\u001b[0m \u001b[0mscreen\u001b[0m\u001b[0;34m,\u001b[0m \u001b[0mstacktrace\u001b[0m\u001b[0;34m)\u001b[0m\u001b[0;34m\u001b[0m\u001b[0;34m\u001b[0m\u001b[0m\n\u001b[0m\u001b[1;32m     81\u001b[0m \u001b[0;34m\u001b[0m\u001b[0m\n\u001b[1;32m     82\u001b[0m     \u001b[0;32mdef\u001b[0m \u001b[0muntil_not\u001b[0m\u001b[0;34m(\u001b[0m\u001b[0mself\u001b[0m\u001b[0;34m,\u001b[0m \u001b[0mmethod\u001b[0m\u001b[0;34m,\u001b[0m \u001b[0mmessage\u001b[0m\u001b[0;34m=\u001b[0m\u001b[0;34m''\u001b[0m\u001b[0;34m)\u001b[0m\u001b[0;34m:\u001b[0m\u001b[0;34m\u001b[0m\u001b[0;34m\u001b[0m\u001b[0m\n",
      "\u001b[0;31mTimeoutException\u001b[0m: Message: \n"
     ]
    }
   ],
   "source": [
    "# login to main page.\n",
    "driver.get(url)\n",
    "username_ele = WebDriverWait(driver, 5).until(\n",
    "               EC.presence_of_element_located((By.XPATH, username_inp)))\n",
    "password_ele = WebDriverWait(driver, 5).until(\n",
    "               EC.presence_of_element_located((By.XPATH, password_inp)))\n",
    "login_ele = WebDriverWait(driver, 5).until(\n",
    "            EC.presence_of_element_located((By.XPATH, login_button)))\n",
    "# username_ele.clear()\n",
    "# password_ele.clear()\n",
    "username_ele.send_keys(username)\n",
    "password_ele.send_keys(password)\n",
    "login_ele.click()\n",
    "close_video = WebDriverWait(driver, 5).until(\n",
    "              EC.element_to_be_clickable((By.XPATH, close_video_button)))\n",
    "close_video.click()"
   ]
  },
  {
   "cell_type": "code",
   "execution_count": 6,
   "metadata": {},
   "outputs": [],
   "source": [
    "# upload a document to translate\n",
    "file_path = \"/linguistics/ethan/document_test/Accounting Preface_ eng.RTF\"\n",
    "file_upload_xpath = '//div[@class=\"fileupload-buttonbar\"]'\n",
    "file_upload_ele = WebDriverWait(driver, 5).until(\n",
    "              EC.element_to_be_clickable((By.XPATH, file_upload_xpath)))\n",
    "# file_upload_ele.send_keys(file_path)\n",
    "file_upload_ele.click()"
   ]
  },
  {
   "cell_type": "code",
   "execution_count": 16,
   "metadata": {},
   "outputs": [],
   "source": [
    "url = \"https://ai.alexatranslations.com/translate/tm_cleaner/\"\n",
    "# url = \"https://ai.alexatranslations.com/translate/logout/\"\n",
    "# driver.delete_all_cookies()\n",
    "load_cookie(driver, cookie_path)\n",
    "driver.get(url)"
   ]
  },
  {
   "cell_type": "code",
   "execution_count": 6,
   "metadata": {},
   "outputs": [],
   "source": [
    "# save cookie and load it if login required.\n",
    "import pickle\n",
    "def save_cookie(driver, path):\n",
    "    with open(path, 'wb') as file_handler:\n",
    "        pickle.dump(driver.get_cookies(), file_handler)\n",
    "        \n",
    "def load_cookie(driver, path):\n",
    "    with open(path, 'rb') as f:\n",
    "        cookies = pickle.load(f)\n",
    "        for cookie in cookies:\n",
    "            driver.add_cookie(cookie)\n",
    "            \n",
    "cookie_path = 'cookie.pkl'\n",
    "save_cookie(driver, cookie_path)"
   ]
  },
  {
   "cell_type": "code",
   "execution_count": 12,
   "metadata": {},
   "outputs": [],
   "source": [
    "# log out\n",
    "logout_xpath = '//div[@class=\"dropdown-menu dropdown-menu-right profile-dropdown\"]/a[2]'\n",
    "logout_ele = driver.find_element_by_xpath(logout_xpath)\n",
    "driver.execute_script(\"arguments[0].click();\", logout_ele)"
   ]
  },
  {
   "cell_type": "code",
   "execution_count": 15,
   "metadata": {},
   "outputs": [],
   "source": [
    "# login using cookie\n",
    "usage_url = \"https://ai.alexatranslations.com/translate/tm_creator/\"\n",
    "# load_cookie(driver, cookie_path)\n",
    "with open(cookie_path, 'rb') as f:\n",
    "    cookies = pickle.load(f)\n",
    "    for cookie in cookies:\n",
    "        driver.add_cookie(cookie)\n",
    "driver.get(usage_url)"
   ]
  },
  {
   "cell_type": "code",
   "execution_count": 8,
   "metadata": {},
   "outputs": [],
   "source": [
    "fr_node = driver.find_element_by_xpath(\"\"\"//a[@onclick=\"change_website_language('fr');\"]\"\"\")\n",
    "driver.execute_script(\"arguments[0].click();\", fr_node)"
   ]
  }
 ],
 "metadata": {
  "kernelspec": {
   "display_name": "Python 3",
   "language": "python",
   "name": "python3"
  },
  "language_info": {
   "codemirror_mode": {
    "name": "ipython",
    "version": 3
   },
   "file_extension": ".py",
   "mimetype": "text/x-python",
   "name": "python",
   "nbconvert_exporter": "python",
   "pygments_lexer": "ipython3",
   "version": "3.8.3"
  }
 },
 "nbformat": 4,
 "nbformat_minor": 4
}
