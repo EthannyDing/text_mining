{
 "cells": [
  {
   "cell_type": "code",
   "execution_count": 25,
   "metadata": {},
   "outputs": [],
   "source": [
    "from selenium import webdriver\n",
    "from selenium.webdriver.support.ui import WebDriverWait\n",
    "from selenium.webdriver.support import expected_conditions as EC\n",
    "from selenium.webdriver.common.by import By\n",
    "from selenium.webdriver.common.action_chains import ActionChains"
   ]
  },
  {
   "cell_type": "code",
   "execution_count": 36,
   "metadata": {},
   "outputs": [],
   "source": [
    "# options = webdriver.ChromeOptions()\n",
    "# options.add_argument(\"start-maximized\");\n",
    "# options.add_argument(\"disable-infobars\")\n",
    "# options.add_argument(\"--disable-extensions\")\n",
    "# driver = webdriver.Chrome(chrome_options=options,executable_path=\"/linguistics/ethan/Downloads/chromedriver_version87\")\n",
    "driver = webdriver.Chrome(executable_path=\"/linguistics/ethan/Downloads/chromedriver_version87\")"
   ]
  },
  {
   "cell_type": "code",
   "execution_count": 4,
   "metadata": {},
   "outputs": [],
   "source": [
    "url = \"https://www.pimco.ca/en-ca/\"\n",
    "steps = [(\"click\", '//span[@lang=\"en-CA\"]'), \n",
    "         (\"click\", '//label[@for=\"Financial Intermediary\"]')]\n",
    "# xpath = '//a[@class=\"languageSwitcher \")]'\n",
    "tgt_xpath = '//span[@class=\"languageSwitcherSet borderRight \"]/span/a[2]'"
   ]
  },
  {
   "cell_type": "code",
   "execution_count": 3,
   "metadata": {},
   "outputs": [],
   "source": []
  },
  {
   "cell_type": "code",
   "execution_count": 5,
   "metadata": {},
   "outputs": [
    {
     "name": "stdout",
     "output_type": "stream",
     "text": [
      "Find element using //span[@lang=\"en-CA\"] and click\n",
      "Find element using //label[@for=\"Financial Intermediary\"] and click\n"
     ]
    }
   ],
   "source": [
    "# login to main page.\n",
    "def login(driver, steps):\n",
    "    driver.get(url)\n",
    "    for action, xpath in steps:\n",
    "        print(\"Find element using {} and {}\".format(xpath, action))\n",
    "        matchedElement = WebDriverWait(driver, 5).until(\n",
    "        EC.presence_of_element_located((By.XPATH, xpath)))\n",
    "        getattr(matchedElement, action)()\n",
    "\n",
    "login(driver, steps)\n",
    "driver.find_element_by_xpath(tgt_xpath).click()"
   ]
  },
  {
   "cell_type": "code",
   "execution_count": 37,
   "metadata": {},
   "outputs": [],
   "source": [
    "driver.session_id\n",
    "driver.close()"
   ]
  },
  {
   "cell_type": "code",
   "execution_count": 22,
   "metadata": {},
   "outputs": [
    {
     "name": "stdout",
     "output_type": "stream",
     "text": [
      "a\n"
     ]
    }
   ],
   "source": [
    "a = True\n",
    "b = True\n",
    "if a:\n",
    "    print('a')\n",
    "elif b:\n",
    "    print('b')\n",
    "else:\n",
    "    print('c')"
   ]
  },
  {
   "cell_type": "code",
   "execution_count": 24,
   "metadata": {},
   "outputs": [
    {
     "name": "stdout",
     "output_type": "stream",
     "text": [
      "TypeError\n"
     ]
    }
   ],
   "source": [
    "a = 1\n",
    "try:\n",
    "    c = a + \"2\"\n",
    "except Exception as ex: \n",
    "    print(type(ex).__name__)"
   ]
  },
  {
   "cell_type": "code",
   "execution_count": 40,
   "metadata": {},
   "outputs": [
    {
     "name": "stdout",
     "output_type": "stream",
     "text": [
      "others\n",
      "unsupported operand type(s) for +: 'int' and 'str'\n"
     ]
    }
   ],
   "source": [
    "from selenium.common.exceptions import InvalidSessionIdException\n",
    "try:\n",
    "#     driver.get(\"https://www.pimco.ca/en-ca/\")\n",
    "    a = 1\n",
    "    c = a + \"2\"\n",
    "except InvalidSessionIdException as ex:\n",
    "    print(\"something\")\n",
    "    print(ex)\n",
    "except Exception as ex:\n",
    "    print(\"others\")\n",
    "    print(ex)"
   ]
  },
  {
   "cell_type": "code",
   "execution_count": 6,
   "metadata": {},
   "outputs": [],
   "source": []
  },
  {
   "cell_type": "code",
   "execution_count": null,
   "metadata": {},
   "outputs": [],
   "source": []
  },
  {
   "cell_type": "code",
   "execution_count": 13,
   "metadata": {},
   "outputs": [],
   "source": []
  },
  {
   "cell_type": "code",
   "execution_count": 16,
   "metadata": {},
   "outputs": [],
   "source": []
  }
 ],
 "metadata": {
  "kernelspec": {
   "display_name": "Python 3",
   "language": "python",
   "name": "python3"
  },
  "language_info": {
   "codemirror_mode": {
    "name": "ipython",
    "version": 3
   },
   "file_extension": ".py",
   "mimetype": "text/x-python",
   "name": "python",
   "nbconvert_exporter": "python",
   "pygments_lexer": "ipython3",
   "version": "3.8.3"
  }
 },
 "nbformat": 4,
 "nbformat_minor": 4
}
