{
 "cells": [
  {
   "cell_type": "code",
   "execution_count": 1,
   "metadata": {},
   "outputs": [],
   "source": [
    "import os, sys\n",
    "working_dir = os.path.abspath(\"..\")\n",
    "sys.path.insert(0, working_dir)"
   ]
  },
  {
   "cell_type": "code",
   "execution_count": 2,
   "metadata": {},
   "outputs": [],
   "source": [
    "from search import Serving"
   ]
  },
  {
   "cell_type": "code",
   "execution_count": 3,
   "metadata": {},
   "outputs": [
    {
     "name": "stdout",
     "output_type": "stream",
     "text": [
      "Reloading fast text model and index...\n",
      "Reloading complete.\n"
     ]
    }
   ],
   "source": [
    "configPath = \"/linguistics/ethan/Alexa_text_mining_repos/dev_ethan/alexa_text_mining/search_engine/config/search.conf\"\n",
    "serving = Serving(configPath)"
   ]
  },
  {
   "cell_type": "code",
   "execution_count": 6,
   "metadata": {},
   "outputs": [
    {
     "name": "stdout",
     "output_type": "stream",
     "text": [
      "[6215 4976]\n",
      "Connection established successfully.\n",
      "Connection established successfully.\n"
     ]
    },
    {
     "data": {
      "text/plain": [
       "[{'query_id': 6216,\n",
       "  'src_lang': 'eng',\n",
       "  'tgt_lang': 'fra',\n",
       "  'src_text': 'Financial assets and financial liabilities',\n",
       "  'tgt_text': 'Actifs financiers et passifs financiers',\n",
       "  'ycc': '0000-00000-0000-0000-0000',\n",
       "  'domain': 'finance',\n",
       "  'quality': 'machine cleaned',\n",
       "  'type': 'TM',\n",
       "  'website_source': None,\n",
       "  'file_source': 1},\n",
       " {'query_id': 4977,\n",
       "  'src_lang': 'eng',\n",
       "  'tgt_lang': 'fra',\n",
       "  'src_text': 'Offsetting financial assets and financial liabilities',\n",
       "  'tgt_text': \"Compensation d'actifs financiers et de passifs financiers\",\n",
       "  'ycc': '0000-00000-0000-0000-0000',\n",
       "  'domain': 'finance',\n",
       "  'quality': 'machine cleaned',\n",
       "  'type': 'TM',\n",
       "  'website_source': None,\n",
       "  'file_source': 1}]"
      ]
     },
     "execution_count": 6,
     "metadata": {},
     "output_type": "execute_result"
    }
   ],
   "source": [
    "text = \"financial assets\"\n",
    "serving.search(text, n_best=2)"
   ]
  },
  {
   "cell_type": "code",
   "execution_count": null,
   "metadata": {},
   "outputs": [],
   "source": []
  }
 ],
 "metadata": {
  "kernelspec": {
   "display_name": "Python 3",
   "language": "python",
   "name": "python3"
  },
  "language_info": {
   "codemirror_mode": {
    "name": "ipython",
    "version": 3
   },
   "file_extension": ".py",
   "mimetype": "text/x-python",
   "name": "python",
   "nbconvert_exporter": "python",
   "pygments_lexer": "ipython3",
   "version": "3.8.3"
  }
 },
 "nbformat": 4,
 "nbformat_minor": 4
}
